{
 "cells": [
  {
   "cell_type": "code",
   "execution_count": 36,
   "metadata": {},
   "outputs": [],
   "source": [
    "import pandas as pd\n",
    "from IPython.display import Markdown, display\n",
    "from sklearn.model_selection import train_test_split\n",
    "import matplotlib.pyplot as plt\n",
    "\n",
    "\n",
    "def printmd(string):\n",
    "    display(Markdown(string))\n",
    "    \n",
    "    \n",
    "from sklearn.linear_model import LogisticRegression\n",
    "from sklearn import svm\n",
    "from sklearn import tree\n",
    "from sklearn.ensemble import RandomForestClassifier\n",
    "from sklearn.neural_network import MLPClassifier\n",
    "from sklearn.ensemble import AdaBoostClassifier\n",
    "from sklearn.model_selection import cross_val_score\n",
    "\n",
    "from sklearn.metrics import accuracy_score\n",
    "\n",
    "\n",
    "%  matplotlib inline"
   ]
  },
  {
   "cell_type": "code",
   "execution_count": 37,
   "metadata": {},
   "outputs": [],
   "source": [
    "#adult = pd.read_csv('adult.csv')\n",
    "\n",
    "column_names = ['age', 'workclass', 'fnlwgt', 'education', 'educational-num','marital-status', 'occupation', 'relationship', 'race', 'gender','capital-gain', 'capital-loss', 'hours-per-week', 'native-country','income']\n",
    "\n",
    "train = pd.read_csv('adult_data.txt', sep=\",\\s\", header=None, names = column_names, engine = 'python')\n",
    "test = pd.read_csv('adult_test.txt', sep=\",\\s\", header=None, names = column_names, engine = 'python')\n",
    "test['income'].replace(regex=True,inplace=True,to_replace=r'\\.',value=r'')\n",
    "\n",
    "\n",
    "adult = pd.concat([test,train])\n",
    "adult.reset_index(inplace = True, drop = True)"
   ]
  },
  {
   "cell_type": "code",
   "execution_count": 38,
   "metadata": {},
   "outputs": [
    {
     "name": "stdout",
     "output_type": "stream",
     "text": [
      "<class 'pandas.core.frame.DataFrame'>\n",
      "RangeIndex: 48842 entries, 0 to 48841\n",
      "Data columns (total 15 columns):\n",
      "age                48842 non-null int64\n",
      "workclass          48842 non-null category\n",
      "fnlwgt             48842 non-null int64\n",
      "education          48842 non-null category\n",
      "educational-num    48842 non-null int64\n",
      "marital-status     48842 non-null category\n",
      "occupation         48842 non-null category\n",
      "relationship       48842 non-null category\n",
      "race               48842 non-null category\n",
      "gender             48842 non-null category\n",
      "capital-gain       48842 non-null int64\n",
      "capital-loss       48842 non-null int64\n",
      "hours-per-week     48842 non-null int64\n",
      "native-country     48842 non-null category\n",
      "income             48842 non-null category\n",
      "dtypes: category(9), int64(6)\n",
      "memory usage: 2.7 MB\n",
      "None\n"
     ]
    }
   ],
   "source": [
    "# Setting all the categorical columns to type category\n",
    "for col in set(adult.columns) - set(adult.describe().columns):\n",
    "    adult[col] = adult[col].astype('category')\n",
    "    \n",
    "print(adult.info())"
   ]
  },
  {
   "cell_type": "code",
   "execution_count": 39,
   "metadata": {},
   "outputs": [
    {
     "data": {
      "text/html": [
       "<div>\n",
       "<style scoped>\n",
       "    .dataframe tbody tr th:only-of-type {\n",
       "        vertical-align: middle;\n",
       "    }\n",
       "\n",
       "    .dataframe tbody tr th {\n",
       "        vertical-align: top;\n",
       "    }\n",
       "\n",
       "    .dataframe thead th {\n",
       "        text-align: right;\n",
       "    }\n",
       "</style>\n",
       "<table border=\"1\" class=\"dataframe\">\n",
       "  <thead>\n",
       "    <tr style=\"text-align: right;\">\n",
       "      <th></th>\n",
       "      <th>age</th>\n",
       "      <th>workclass</th>\n",
       "      <th>fnlwgt</th>\n",
       "      <th>education</th>\n",
       "      <th>educational-num</th>\n",
       "      <th>marital-status</th>\n",
       "      <th>occupation</th>\n",
       "      <th>relationship</th>\n",
       "      <th>race</th>\n",
       "      <th>gender</th>\n",
       "      <th>capital-gain</th>\n",
       "      <th>capital-loss</th>\n",
       "      <th>hours-per-week</th>\n",
       "      <th>native-country</th>\n",
       "      <th>income</th>\n",
       "    </tr>\n",
       "  </thead>\n",
       "  <tbody>\n",
       "    <tr>\n",
       "      <th>0</th>\n",
       "      <td>25</td>\n",
       "      <td>Private</td>\n",
       "      <td>226802</td>\n",
       "      <td>11th</td>\n",
       "      <td>7</td>\n",
       "      <td>Never-married</td>\n",
       "      <td>Machine-op-inspct</td>\n",
       "      <td>Own-child</td>\n",
       "      <td>Black</td>\n",
       "      <td>Male</td>\n",
       "      <td>0</td>\n",
       "      <td>0</td>\n",
       "      <td>40</td>\n",
       "      <td>United-States</td>\n",
       "      <td>&lt;=50K</td>\n",
       "    </tr>\n",
       "    <tr>\n",
       "      <th>1</th>\n",
       "      <td>38</td>\n",
       "      <td>Private</td>\n",
       "      <td>89814</td>\n",
       "      <td>HS-grad</td>\n",
       "      <td>9</td>\n",
       "      <td>Married-civ-spouse</td>\n",
       "      <td>Farming-fishing</td>\n",
       "      <td>Husband</td>\n",
       "      <td>White</td>\n",
       "      <td>Male</td>\n",
       "      <td>0</td>\n",
       "      <td>0</td>\n",
       "      <td>50</td>\n",
       "      <td>United-States</td>\n",
       "      <td>&lt;=50K</td>\n",
       "    </tr>\n",
       "    <tr>\n",
       "      <th>2</th>\n",
       "      <td>28</td>\n",
       "      <td>Local-gov</td>\n",
       "      <td>336951</td>\n",
       "      <td>Assoc-acdm</td>\n",
       "      <td>12</td>\n",
       "      <td>Married-civ-spouse</td>\n",
       "      <td>Protective-serv</td>\n",
       "      <td>Husband</td>\n",
       "      <td>White</td>\n",
       "      <td>Male</td>\n",
       "      <td>0</td>\n",
       "      <td>0</td>\n",
       "      <td>40</td>\n",
       "      <td>United-States</td>\n",
       "      <td>&gt;50K</td>\n",
       "    </tr>\n",
       "    <tr>\n",
       "      <th>3</th>\n",
       "      <td>44</td>\n",
       "      <td>Private</td>\n",
       "      <td>160323</td>\n",
       "      <td>Some-college</td>\n",
       "      <td>10</td>\n",
       "      <td>Married-civ-spouse</td>\n",
       "      <td>Machine-op-inspct</td>\n",
       "      <td>Husband</td>\n",
       "      <td>Black</td>\n",
       "      <td>Male</td>\n",
       "      <td>7688</td>\n",
       "      <td>0</td>\n",
       "      <td>40</td>\n",
       "      <td>United-States</td>\n",
       "      <td>&gt;50K</td>\n",
       "    </tr>\n",
       "    <tr>\n",
       "      <th>4</th>\n",
       "      <td>18</td>\n",
       "      <td>?</td>\n",
       "      <td>103497</td>\n",
       "      <td>Some-college</td>\n",
       "      <td>10</td>\n",
       "      <td>Never-married</td>\n",
       "      <td>?</td>\n",
       "      <td>Own-child</td>\n",
       "      <td>White</td>\n",
       "      <td>Female</td>\n",
       "      <td>0</td>\n",
       "      <td>0</td>\n",
       "      <td>30</td>\n",
       "      <td>United-States</td>\n",
       "      <td>&lt;=50K</td>\n",
       "    </tr>\n",
       "  </tbody>\n",
       "</table>\n",
       "</div>"
      ],
      "text/plain": [
       "   age  workclass  fnlwgt     education  educational-num      marital-status  \\\n",
       "0   25    Private  226802          11th                7       Never-married   \n",
       "1   38    Private   89814       HS-grad                9  Married-civ-spouse   \n",
       "2   28  Local-gov  336951    Assoc-acdm               12  Married-civ-spouse   \n",
       "3   44    Private  160323  Some-college               10  Married-civ-spouse   \n",
       "4   18          ?  103497  Some-college               10       Never-married   \n",
       "\n",
       "          occupation relationship   race  gender  capital-gain  capital-loss  \\\n",
       "0  Machine-op-inspct    Own-child  Black    Male             0             0   \n",
       "1    Farming-fishing      Husband  White    Male             0             0   \n",
       "2    Protective-serv      Husband  White    Male             0             0   \n",
       "3  Machine-op-inspct      Husband  Black    Male          7688             0   \n",
       "4                  ?    Own-child  White  Female             0             0   \n",
       "\n",
       "   hours-per-week native-country income  \n",
       "0              40  United-States  <=50K  \n",
       "1              50  United-States  <=50K  \n",
       "2              40  United-States   >50K  \n",
       "3              40  United-States   >50K  \n",
       "4              30  United-States  <=50K  "
      ]
     },
     "execution_count": 39,
     "metadata": {},
     "output_type": "execute_result"
    }
   ],
   "source": [
    "# Top 5 records\n",
    "adult.head()"
   ]
  },
  {
   "cell_type": "code",
   "execution_count": 40,
   "metadata": {},
   "outputs": [
    {
     "name": "stdout",
     "output_type": "stream",
     "text": [
      "age\n",
      "workclass\n",
      "fnlwgt\n",
      "education\n",
      "educational-num\n",
      "marital-status\n",
      "occupation\n",
      "relationship\n",
      "race\n",
      "gender\n",
      "capital-gain\n",
      "capital-loss\n",
      "hours-per-week\n",
      "native-country\n",
      "income\n"
     ]
    }
   ],
   "source": [
    "# Feature avaiable\n",
    "for i in adult.columns:\n",
    "    print(i)"
   ]
  },
  {
   "cell_type": "code",
   "execution_count": 41,
   "metadata": {
    "scrolled": false
   },
   "outputs": [
    {
     "data": {
      "text/markdown": [
       "# Summary Statistics"
      ],
      "text/plain": [
       "<IPython.core.display.Markdown object>"
      ]
     },
     "metadata": {},
     "output_type": "display_data"
    },
    {
     "data": {
      "text/html": [
       "<div>\n",
       "<style scoped>\n",
       "    .dataframe tbody tr th:only-of-type {\n",
       "        vertical-align: middle;\n",
       "    }\n",
       "\n",
       "    .dataframe tbody tr th {\n",
       "        vertical-align: top;\n",
       "    }\n",
       "\n",
       "    .dataframe thead th {\n",
       "        text-align: right;\n",
       "    }\n",
       "</style>\n",
       "<table border=\"1\" class=\"dataframe\">\n",
       "  <thead>\n",
       "    <tr style=\"text-align: right;\">\n",
       "      <th></th>\n",
       "      <th>age</th>\n",
       "      <th>fnlwgt</th>\n",
       "      <th>educational-num</th>\n",
       "      <th>capital-gain</th>\n",
       "      <th>capital-loss</th>\n",
       "      <th>hours-per-week</th>\n",
       "    </tr>\n",
       "  </thead>\n",
       "  <tbody>\n",
       "    <tr>\n",
       "      <th>count</th>\n",
       "      <td>48842.000000</td>\n",
       "      <td>4.884200e+04</td>\n",
       "      <td>48842.000000</td>\n",
       "      <td>48842.000000</td>\n",
       "      <td>48842.000000</td>\n",
       "      <td>48842.000000</td>\n",
       "    </tr>\n",
       "    <tr>\n",
       "      <th>mean</th>\n",
       "      <td>38.643585</td>\n",
       "      <td>1.896641e+05</td>\n",
       "      <td>10.078089</td>\n",
       "      <td>1079.067626</td>\n",
       "      <td>87.502314</td>\n",
       "      <td>40.422382</td>\n",
       "    </tr>\n",
       "    <tr>\n",
       "      <th>std</th>\n",
       "      <td>13.710510</td>\n",
       "      <td>1.056040e+05</td>\n",
       "      <td>2.570973</td>\n",
       "      <td>7452.019058</td>\n",
       "      <td>403.004552</td>\n",
       "      <td>12.391444</td>\n",
       "    </tr>\n",
       "    <tr>\n",
       "      <th>min</th>\n",
       "      <td>17.000000</td>\n",
       "      <td>1.228500e+04</td>\n",
       "      <td>1.000000</td>\n",
       "      <td>0.000000</td>\n",
       "      <td>0.000000</td>\n",
       "      <td>1.000000</td>\n",
       "    </tr>\n",
       "    <tr>\n",
       "      <th>25%</th>\n",
       "      <td>28.000000</td>\n",
       "      <td>1.175505e+05</td>\n",
       "      <td>9.000000</td>\n",
       "      <td>0.000000</td>\n",
       "      <td>0.000000</td>\n",
       "      <td>40.000000</td>\n",
       "    </tr>\n",
       "    <tr>\n",
       "      <th>50%</th>\n",
       "      <td>37.000000</td>\n",
       "      <td>1.781445e+05</td>\n",
       "      <td>10.000000</td>\n",
       "      <td>0.000000</td>\n",
       "      <td>0.000000</td>\n",
       "      <td>40.000000</td>\n",
       "    </tr>\n",
       "    <tr>\n",
       "      <th>75%</th>\n",
       "      <td>48.000000</td>\n",
       "      <td>2.376420e+05</td>\n",
       "      <td>12.000000</td>\n",
       "      <td>0.000000</td>\n",
       "      <td>0.000000</td>\n",
       "      <td>45.000000</td>\n",
       "    </tr>\n",
       "    <tr>\n",
       "      <th>max</th>\n",
       "      <td>90.000000</td>\n",
       "      <td>1.490400e+06</td>\n",
       "      <td>16.000000</td>\n",
       "      <td>99999.000000</td>\n",
       "      <td>4356.000000</td>\n",
       "      <td>99.000000</td>\n",
       "    </tr>\n",
       "  </tbody>\n",
       "</table>\n",
       "</div>"
      ],
      "text/plain": [
       "                age        fnlwgt  educational-num  capital-gain  \\\n",
       "count  48842.000000  4.884200e+04     48842.000000  48842.000000   \n",
       "mean      38.643585  1.896641e+05        10.078089   1079.067626   \n",
       "std       13.710510  1.056040e+05         2.570973   7452.019058   \n",
       "min       17.000000  1.228500e+04         1.000000      0.000000   \n",
       "25%       28.000000  1.175505e+05         9.000000      0.000000   \n",
       "50%       37.000000  1.781445e+05        10.000000      0.000000   \n",
       "75%       48.000000  2.376420e+05        12.000000      0.000000   \n",
       "max       90.000000  1.490400e+06        16.000000  99999.000000   \n",
       "\n",
       "       capital-loss  hours-per-week  \n",
       "count  48842.000000    48842.000000  \n",
       "mean      87.502314       40.422382  \n",
       "std      403.004552       12.391444  \n",
       "min        0.000000        1.000000  \n",
       "25%        0.000000       40.000000  \n",
       "50%        0.000000       40.000000  \n",
       "75%        0.000000       45.000000  \n",
       "max     4356.000000       99.000000  "
      ]
     },
     "execution_count": 41,
     "metadata": {},
     "output_type": "execute_result"
    }
   ],
   "source": [
    "printmd('# Summary Statistics')\n",
    "\n",
    "adult.describe()"
   ]
  },
  {
   "cell_type": "code",
   "execution_count": 42,
   "metadata": {},
   "outputs": [
    {
     "data": {
      "text/markdown": [
       "### Missing values"
      ],
      "text/plain": [
       "<IPython.core.display.Markdown object>"
      ]
     },
     "metadata": {},
     "output_type": "display_data"
    },
    {
     "data": {
      "text/markdown": [
       "workclass: 2799 records"
      ],
      "text/plain": [
       "<IPython.core.display.Markdown object>"
      ]
     },
     "metadata": {},
     "output_type": "display_data"
    },
    {
     "data": {
      "text/markdown": [
       "occupation: 2809 records"
      ],
      "text/plain": [
       "<IPython.core.display.Markdown object>"
      ]
     },
     "metadata": {},
     "output_type": "display_data"
    },
    {
     "data": {
      "text/markdown": [
       "native-country: 857 records"
      ],
      "text/plain": [
       "<IPython.core.display.Markdown object>"
      ]
     },
     "metadata": {},
     "output_type": "display_data"
    }
   ],
   "source": [
    "printmd('### Missing values')\n",
    "for i,j in zip(adult.columns,(adult.values.astype(str) == '?').sum(axis = 0)):\n",
    "    if j > 0:\n",
    "        printmd(str(i) + ': ' + str(j) + ' records')\n",
    "\n"
   ]
  },
  {
   "cell_type": "markdown",
   "metadata": {},
   "source": [
    "# Treating Missing Values by predicting them"
   ]
  },
  {
   "cell_type": "code",
   "execution_count": 43,
   "metadata": {},
   "outputs": [],
   "source": [
    "# Create one hot encoding of the categorical columns in the data frame.\n",
    "def oneHotCatVars(df, df_cols):\n",
    "    \n",
    "    df_1 = adult_data = df.drop(columns = df_cols, axis = 1)\n",
    "    df_2 = pd.get_dummies(df[df_cols])\n",
    "    \n",
    "    return (pd.concat([df_1, df_2], axis=1, join='inner'))"
   ]
  },
  {
   "cell_type": "code",
   "execution_count": 44,
   "metadata": {},
   "outputs": [
    {
     "data": {
      "text/markdown": [
       "## 1. Filling in missing values for Attribute workclass"
      ],
      "text/plain": [
       "<IPython.core.display.Markdown object>"
      ]
     },
     "metadata": {},
     "output_type": "display_data"
    },
    {
     "name": "stdout",
     "output_type": "stream",
     "text": [
      "Private             35777\n",
      "Self-emp-not-inc     3876\n",
      "Local-gov            3145\n",
      "State-gov            1982\n",
      "Self-emp-inc         1695\n",
      "Federal-gov          1434\n",
      "Never-worked          912\n",
      "Without-pay            21\n",
      "?                       0\n",
      "Name: workclass, dtype: int64\n",
      "[Private, Local-gov, Never-worked, Self-emp-not-inc, Federal-gov, State-gov, Self-emp-inc, Without-pay]\n",
      "Categories (8, object): [Private, Local-gov, Never-worked, Self-emp-not-inc, Federal-gov, State-gov, Self-emp-inc, Without-pay]\n"
     ]
    }
   ],
   "source": [
    "printmd('## 1. Filling in missing values for Attribute workclass')\n",
    "\n",
    "test_data = adult[(adult.workclass.values == '?')].copy()\n",
    "test_label = test_data.workclass\n",
    "\n",
    "train_data = adult[(adult.workclass.values != '?')].copy()\n",
    "train_label = train_data.workclass\n",
    "\n",
    "test_data.drop(columns = ['workclass'], inplace = True)\n",
    "train_data.drop(columns = ['workclass'], inplace = True)\n",
    "\n",
    "train_data = oneHotCatVars(train_data, train_data.select_dtypes('category').columns)\n",
    "test_data = oneHotCatVars(test_data, test_data.select_dtypes('category').columns)\n",
    "\n",
    "log_reg = LogisticRegression()\n",
    "log_reg.fit(train_data, train_label)\n",
    "log_reg_pred = log_reg.predict(test_data)\n",
    "\n",
    "\n",
    "clf = tree.DecisionTreeClassifier()\n",
    "clf = clf.fit(train_data, train_label)\n",
    "clf_pred = clf.predict(test_data)\n",
    "\n",
    "r_forest = RandomForestClassifier(n_estimators=10)\n",
    "r_forest.fit(train_data, train_label)\n",
    "r_forest_pred = r_forest.predict(test_data)\n",
    "\n",
    "majority_class = adult.workclass.value_counts().index[0]\n",
    "\n",
    "pred_df =  pd.DataFrame({'RFor': r_forest_pred, 'DTree' : clf_pred, 'LogReg' : log_reg_pred})\n",
    "overall_pred = pred_df.apply(lambda x: x.value_counts().index[0] if x.value_counts()[0] > 1 else majority_class, axis = 1)\n",
    "\n",
    "adult.loc[(adult.workclass.values == '?'),'workclass'] = overall_pred.values\n",
    "print(adult.workclass.value_counts())\n",
    "print(adult.workclass.unique())"
   ]
  },
  {
   "cell_type": "code",
   "execution_count": 45,
   "metadata": {},
   "outputs": [
    {
     "data": {
      "text/markdown": [
       "## 2. Filling in missing values for Occupation occupation"
      ],
      "text/plain": [
       "<IPython.core.display.Markdown object>"
      ]
     },
     "metadata": {},
     "output_type": "display_data"
    },
    {
     "name": "stdout",
     "output_type": "stream",
     "text": [
      "[Machine-op-inspct, Farming-fishing, Protective-serv, Adm-clerical, Other-service, ..., Sales, Priv-house-serv, Transport-moving, Handlers-cleaners, Armed-Forces]\n",
      "Length: 14\n",
      "Categories (14, object): [Machine-op-inspct, Farming-fishing, Protective-serv, Adm-clerical, ..., Priv-house-serv, Transport-moving, Handlers-cleaners, Armed-Forces]\n"
     ]
    }
   ],
   "source": [
    "printmd('## 2. Filling in missing values for Occupation occupation')\n",
    "\n",
    "test_data = adult[(adult.occupation.values == '?')].copy()\n",
    "test_label = test_data.occupation\n",
    "\n",
    "train_data = adult[(adult.occupation.values != '?')].copy()\n",
    "train_label = train_data.occupation\n",
    "\n",
    "test_data.drop(columns = ['occupation'], inplace = True)\n",
    "train_data.drop(columns = ['occupation'], inplace = True)\n",
    "\n",
    "train_data = oneHotCatVars(train_data, train_data.select_dtypes('category').columns)\n",
    "test_data = oneHotCatVars(test_data, test_data.select_dtypes('category').columns)\n",
    "\n",
    "log_reg = LogisticRegression()\n",
    "log_reg.fit(train_data, train_label)\n",
    "log_reg_pred = log_reg.predict(test_data)\n",
    "\n",
    "\n",
    "clf = tree.DecisionTreeClassifier()\n",
    "clf = clf.fit(train_data, train_label)\n",
    "clf_pred = clf.predict(test_data)\n",
    "\n",
    "r_forest = RandomForestClassifier(n_estimators=10)\n",
    "r_forest.fit(train_data, train_label)\n",
    "r_forest_pred = r_forest.predict(test_data)\n",
    "\n",
    "\n",
    "majority_class = adult.occupation.value_counts().index[0]\n",
    "\n",
    "pred_df =  pd.DataFrame({'RFor': r_forest_pred, 'DTree' : clf_pred, 'LogReg' : log_reg_pred})\n",
    "overall_pred = pred_df.apply(lambda x: x.value_counts().index[0] if x.value_counts()[0] > 1 else majority_class, axis = 1)\n",
    "\n",
    "adult.loc[(adult.occupation.values == '?'),'occupation'] = overall_pred.values\n",
    "print(adult.occupation.value_counts())\n",
    "print(adult.occupation.unique())"
   ]
  },
  {
   "cell_type": "code",
   "execution_count": 46,
   "metadata": {},
   "outputs": [
    {
     "data": {
      "text/markdown": [
       "## 3. Filling in missing values for Native Country"
      ],
      "text/plain": [
       "<IPython.core.display.Markdown object>"
      ]
     },
     "metadata": {},
     "output_type": "display_data"
    },
    {
     "name": "stdout",
     "output_type": "stream",
     "text": [
      "[United-States, Peru, Guatemala, Mexico, Dominican-Republic, ..., Greece, Trinadad&Tobago, Outlying-US(Guam-USVI-etc), France, Holand-Netherlands]\n",
      "Length: 41\n",
      "Categories (41, object): [United-States, Peru, Guatemala, Mexico, ..., Trinadad&Tobago, Outlying-US(Guam-USVI-etc), France, Holand-Netherlands]\n"
     ]
    }
   ],
   "source": [
    "printmd('## 3. Filling in missing values for Native Country')\n",
    "\n",
    "test_data = adult[(adult['native-country'].values == '?')].copy()\n",
    "test_label = test_data['native-country']\n",
    "\n",
    "train_data = adult[(adult['native-country'].values != '?')].copy()\n",
    "train_label = train_data['native-country']\n",
    "\n",
    "test_data.drop(columns = ['native-country'], inplace = True)\n",
    "train_data.drop(columns = ['native-country'], inplace = True)\n",
    "\n",
    "train_data = oneHotCatVars(train_data, train_data.select_dtypes('category').columns)\n",
    "test_data = oneHotCatVars(test_data, test_data.select_dtypes('category').columns)\n",
    "\n",
    "log_reg = LogisticRegression()\n",
    "log_reg.fit(train_data, train_label)\n",
    "log_reg_pred = log_reg.predict(test_data)\n",
    "\n",
    "\n",
    "clf = tree.DecisionTreeClassifier()\n",
    "clf = clf.fit(train_data, train_label)\n",
    "clf_pred = clf.predict(test_data)\n",
    "\n",
    "r_forest = RandomForestClassifier(n_estimators=10)\n",
    "r_forest.fit(train_data, train_label)\n",
    "r_forest_pred = r_forest.predict(test_data)\n",
    "\n",
    "\n",
    "majority_class = adult['native-country'].value_counts().index[0]\n",
    "\n",
    "pred_df =  pd.DataFrame({'RFor': r_forest_pred, 'DTree' : clf_pred, 'LogReg' : log_reg_pred})\n",
    "overall_pred = pred_df.apply(lambda x: x.value_counts().index[0] if x.value_counts()[0] > 1 else majority_class, axis = 1)\n",
    "\n",
    "adult.loc[(adult['native-country'].values == '?'),'native-country'] = overall_pred.values\n",
    "print(adult['native-country'].value_counts())\n",
    "print(adult['native-country'].unique())"
   ]
  },
  {
   "cell_type": "code",
   "execution_count": 76,
   "metadata": {},
   "outputs": [],
   "source": [
    "# Resetting the categories\n",
    "\n",
    "adult['workclass'] = adult['workclass'].cat.remove_categories('?')\n",
    "adult['occupation'] = adult['occupation'].cat.remove_categories('?')\n",
    "adult['native-country'] = adult['native-country'].cat.remove_categories('?')\n",
    "\n"
   ]
  },
  {
   "cell_type": "code",
   "execution_count": 84,
   "metadata": {},
   "outputs": [
    {
     "data": {
      "text/markdown": [
       "### Correlation Matrix"
      ],
      "text/plain": [
       "<IPython.core.display.Markdown object>"
      ]
     },
     "metadata": {},
     "output_type": "display_data"
    },
    {
     "data": {
      "text/html": [
       "<div>\n",
       "<style scoped>\n",
       "    .dataframe tbody tr th:only-of-type {\n",
       "        vertical-align: middle;\n",
       "    }\n",
       "\n",
       "    .dataframe tbody tr th {\n",
       "        vertical-align: top;\n",
       "    }\n",
       "\n",
       "    .dataframe thead th {\n",
       "        text-align: right;\n",
       "    }\n",
       "</style>\n",
       "<table border=\"1\" class=\"dataframe\">\n",
       "  <thead>\n",
       "    <tr style=\"text-align: right;\">\n",
       "      <th></th>\n",
       "      <th>age</th>\n",
       "      <th>fnlwgt</th>\n",
       "      <th>educational-num</th>\n",
       "      <th>capital-gain</th>\n",
       "      <th>capital-loss</th>\n",
       "      <th>hours-per-week</th>\n",
       "    </tr>\n",
       "  </thead>\n",
       "  <tbody>\n",
       "    <tr>\n",
       "      <th>age</th>\n",
       "      <td>1.000000</td>\n",
       "      <td>-0.076628</td>\n",
       "      <td>0.030940</td>\n",
       "      <td>0.077229</td>\n",
       "      <td>0.056944</td>\n",
       "      <td>0.071558</td>\n",
       "    </tr>\n",
       "    <tr>\n",
       "      <th>fnlwgt</th>\n",
       "      <td>-0.076628</td>\n",
       "      <td>1.000000</td>\n",
       "      <td>-0.038761</td>\n",
       "      <td>-0.003706</td>\n",
       "      <td>-0.004366</td>\n",
       "      <td>-0.013519</td>\n",
       "    </tr>\n",
       "    <tr>\n",
       "      <th>educational-num</th>\n",
       "      <td>0.030940</td>\n",
       "      <td>-0.038761</td>\n",
       "      <td>1.000000</td>\n",
       "      <td>0.125146</td>\n",
       "      <td>0.080972</td>\n",
       "      <td>0.143689</td>\n",
       "    </tr>\n",
       "    <tr>\n",
       "      <th>capital-gain</th>\n",
       "      <td>0.077229</td>\n",
       "      <td>-0.003706</td>\n",
       "      <td>0.125146</td>\n",
       "      <td>1.000000</td>\n",
       "      <td>-0.031441</td>\n",
       "      <td>0.082157</td>\n",
       "    </tr>\n",
       "    <tr>\n",
       "      <th>capital-loss</th>\n",
       "      <td>0.056944</td>\n",
       "      <td>-0.004366</td>\n",
       "      <td>0.080972</td>\n",
       "      <td>-0.031441</td>\n",
       "      <td>1.000000</td>\n",
       "      <td>0.054467</td>\n",
       "    </tr>\n",
       "    <tr>\n",
       "      <th>hours-per-week</th>\n",
       "      <td>0.071558</td>\n",
       "      <td>-0.013519</td>\n",
       "      <td>0.143689</td>\n",
       "      <td>0.082157</td>\n",
       "      <td>0.054467</td>\n",
       "      <td>1.000000</td>\n",
       "    </tr>\n",
       "  </tbody>\n",
       "</table>\n",
       "</div>"
      ],
      "text/plain": [
       "                      age    fnlwgt  educational-num  capital-gain  \\\n",
       "age              1.000000 -0.076628         0.030940      0.077229   \n",
       "fnlwgt          -0.076628  1.000000        -0.038761     -0.003706   \n",
       "educational-num  0.030940 -0.038761         1.000000      0.125146   \n",
       "capital-gain     0.077229 -0.003706         0.125146      1.000000   \n",
       "capital-loss     0.056944 -0.004366         0.080972     -0.031441   \n",
       "hours-per-week   0.071558 -0.013519         0.143689      0.082157   \n",
       "\n",
       "                 capital-loss  hours-per-week  \n",
       "age                  0.056944        0.071558  \n",
       "fnlwgt              -0.004366       -0.013519  \n",
       "educational-num      0.080972        0.143689  \n",
       "capital-gain        -0.031441        0.082157  \n",
       "capital-loss         1.000000        0.054467  \n",
       "hours-per-week       0.054467        1.000000  "
      ]
     },
     "execution_count": 84,
     "metadata": {},
     "output_type": "execute_result"
    }
   ],
   "source": [
    "printmd('### Correlation Matrix')\n",
    "\n",
    "adult.corr()"
   ]
  },
  {
   "cell_type": "code",
   "execution_count": 85,
   "metadata": {},
   "outputs": [],
   "source": [
    "# Creating a dictionary that contain the education and it's corresponding education level\n",
    "edu_level = {}\n",
    "for x,y in adult[['educational-num','education']].drop_duplicates().itertuples(index=False):\n",
    "    edu_level[y] = x"
   ]
  },
  {
   "cell_type": "code",
   "execution_count": 86,
   "metadata": {},
   "outputs": [
    {
     "data": {
      "text/markdown": [
       "## Education"
      ],
      "text/plain": [
       "<IPython.core.display.Markdown object>"
      ]
     },
     "metadata": {},
     "output_type": "display_data"
    },
    {
     "name": "stdout",
     "output_type": "stream",
     "text": [
      "\n"
     ]
    },
    {
     "data": {
      "image/png": "[encoded data removed]",
      "text/plain": [
       "<matplotlib.figure.Figure at 0x1a105119b0>"
      ]
     },
     "metadata": {},
     "output_type": "display_data"
    }
   ],
   "source": [
    "printmd('## Education')\n",
    "\n",
    "education = round(pd.crosstab(adult.education, adult.income).div(pd.crosstab(adult.education, adult.income).apply(sum,1),0),2)\n",
    "education = education.reindex(sorted(edu_level, key=edu_level.get, reverse=False))\n",
    "\n",
    "ax = education.plot(kind ='bar', title = 'Proportion distribution across education levels', figsize = (10,8))\n",
    "ax.set_xlabel('Education level')\n",
    "ax.set_ylabel('Proportion of population')\n",
    "\n",
    "print()"
   ]
  },
  {
   "cell_type": "code",
   "execution_count": 87,
   "metadata": {},
   "outputs": [
    {
     "data": {
      "text/markdown": [
       "## Gender"
      ],
      "text/plain": [
       "<IPython.core.display.Markdown object>"
      ]
     },
     "metadata": {},
     "output_type": "display_data"
    },
    {
     "name": "stdout",
     "output_type": "stream",
     "text": [
      "\n"
     ]
    },
    {
     "data": {
      "image/png": "[encoded data removed]",
      "text/plain": [
       "<matplotlib.figure.Figure at 0x1a0975e198>"
      ]
     },
     "metadata": {},
     "output_type": "display_data"
    }
   ],
   "source": [
    "printmd('## Gender')\n",
    "\n",
    "gender = round(pd.crosstab(adult.gender, adult.income).div(pd.crosstab(adult.gender, adult.income).apply(sum,1),0),2)\n",
    "gender.sort_values(by = '>50K', inplace = True)\n",
    "ax = gender.plot(kind ='bar', title = 'Proportion distribution across gender levels')\n",
    "ax.set_xlabel('Gender level')\n",
    "ax.set_ylabel('Proportion of population')\n",
    "\n",
    "print()"
   ]
  },
  {
   "cell_type": "code",
   "execution_count": 103,
   "metadata": {},
   "outputs": [
    {
     "name": "stdout",
     "output_type": "stream",
     "text": [
      "\n"
     ]
    },
    {
     "data": {
      "image/png": "[encoded data removed]",
      "text/plain": [
       "<matplotlib.figure.Figure at 0x1a0adf5a20>"
      ]
     },
     "metadata": {},
     "output_type": "display_data"
    }
   ],
   "source": [
    "#pd.crosstab(a, [b, c], rownames=['a'], colnames=['b', 'c'])\n",
    "\n",
    "gender_workclass = round(pd.crosstab(adult.workclass, [adult.income, adult.gender]).div(pd.crosstab(adult.workclass, [adult.income, adult.gender]).apply(sum,1),0),2)\n",
    "gender_workclass[[('>50K','Male'), ('>50K','Female')]].plot(kind = 'bar', title = 'Proportion distribution across gender for each workclass', figsize = (10,8), rot = 30)\n",
    "ax.set_xlabel('Gender level')\n",
    "ax.set_ylabel('Proportion of population')\n",
    "\n",
    "print()"
   ]
  },
  {
   "cell_type": "code",
   "execution_count": 52,
   "metadata": {
    "scrolled": false
   },
   "outputs": [
    {
     "data": {
      "text/markdown": [
       "## Gender across working classes"
      ],
      "text/plain": [
       "<IPython.core.display.Markdown object>"
      ]
     },
     "metadata": {},
     "output_type": "display_data"
    },
    {
     "name": "stdout",
     "output_type": "stream",
     "text": [
      "\n",
      "\n",
      "\n",
      "\n",
      "\n",
      "\n",
      "\n",
      "\n"
     ]
    },
    {
     "data": {
      "image/png": "[encoded data removed]",
      "text/plain": [
       "<matplotlib.figure.Figure at 0x10636a048>"
      ]
     },
     "metadata": {},
     "output_type": "display_data"
    },
    {
     "data": {
      "image/png": "[encoded data removed]",
      "text/plain": [
       "<matplotlib.figure.Figure at 0x1062f7f60>"
      ]
     },
     "metadata": {},
     "output_type": "display_data"
    },
    {
     "data": {
      "image/png": "[encoded data removed]",
      "text/plain": [
       "<matplotlib.figure.Figure at 0x1a0ae164e0>"
      ]
     },
     "metadata": {},
     "output_type": "display_data"
    },
    {
     "data": {
      "image/png": "[encoded data removed]",
      "text/plain": [
       "<matplotlib.figure.Figure at 0x1a09884748>"
      ]
     },
     "metadata": {},
     "output_type": "display_data"
    },
    {
     "data": {
      "image/png": "[encoded data removed]",
      "text/plain": [
       "<matplotlib.figure.Figure at 0x10346e128>"
      ]
     },
     "metadata": {},
     "output_type": "display_data"
    },
    {
     "data": {
      "image/png": "[encoded data removed]",
      "text/plain": [
       "<matplotlib.figure.Figure at 0x10346e2b0>"
      ]
     },
     "metadata": {},
     "output_type": "display_data"
    },
    {
     "data": {
      "image/png": "[encoded data removed]",
      "text/plain": [
       "<matplotlib.figure.Figure at 0x1a09f537b8>"
      ]
     },
     "metadata": {},
     "output_type": "display_data"
    },
    {
     "data": {
      "image/png": "[encoded data removed]",
      "text/plain": [
       "<matplotlib.figure.Figure at 0x1a0a0413c8>"
      ]
     },
     "metadata": {},
     "output_type": "display_data"
    }
   ],
   "source": [
    "printmd('## Gender across working classes')\n",
    "\n",
    "for i in adult.workclass.unique():\n",
    "    df = adult[adult.workclass == i]\n",
    "\n",
    "    hours_per_week = round(pd.crosstab(df.gender, df.income).div(pd.crosstab(df.gender, df.income).apply(sum,1),0),2)\n",
    "    # hours_per_week.sort_values(by = '>50K', inplace = True)\n",
    "    ax = hours_per_week.plot(kind ='bar', title = 'Proportion distribution across Gender for '+ i)\n",
    "    ax.set_xlabel('Gender')\n",
    "    ax.set_ylabel('Proportion of population')\n",
    "\n",
    "    print()"
   ]
  },
  {
   "cell_type": "code",
   "execution_count": null,
   "metadata": {},
   "outputs": [],
   "source": [
    "printmd('## Occupation')\n",
    "\n",
    "occupation = round(pd.crosstab(adult.occupation, adult.income).div(pd.crosstab(adult.occupation, adult.income).apply(sum,1),0),2)\n",
    "occupation.sort_values(by = '>50K', inplace = True)\n",
    "ax = occupation.plot(kind ='bar', title = 'Proportion distribution across Occupation levels', figsize = (10,8))\n",
    "ax.set_xlabel('Occupation level')\n",
    "ax.set_ylabel('Proportion of population')\n",
    "\n",
    "print()"
   ]
  },
  {
   "cell_type": "code",
   "execution_count": null,
   "metadata": {},
   "outputs": [],
   "source": [
    "printmd('## Workclass')\n",
    "\n",
    "workclass = round(pd.crosstab(adult.workclass, adult.income).div(pd.crosstab(adult.workclass, adult.income).apply(sum,1),0),2)\n",
    "workclass.sort_values(by = '>50K', inplace = True)\n",
    "ax = workclass.plot(kind ='bar', title = 'Proportion distribution across workclass levels', figsize = (10,8))\n",
    "ax.set_xlabel('Workclass level')\n",
    "ax.set_ylabel('Proportion of population')\n",
    "\n",
    "print()"
   ]
  },
  {
   "cell_type": "code",
   "execution_count": null,
   "metadata": {},
   "outputs": [],
   "source": [
    "printmd('## Race')\n",
    "\n",
    "race = round(pd.crosstab(adult.race, adult.income).div(pd.crosstab(adult.race, adult.income).apply(sum,1),0),2)\n",
    "race.sort_values(by = '>50K', inplace = True)\n",
    "ax = race.plot(kind ='bar', title = 'Proportion distribution across race levels', figsize = (10,8))\n",
    "ax.set_xlabel('Race level')\n",
    "ax.set_ylabel('Proportion of population')\n",
    "\n",
    "print()"
   ]
  },
  {
   "cell_type": "code",
   "execution_count": null,
   "metadata": {},
   "outputs": [],
   "source": [
    "printmd('## Native Country')\n",
    "\n",
    "native_country = round(pd.crosstab(adult['native-country'], adult.income).div(pd.crosstab(adult['native-country'], adult.income).apply(sum,1),0),2)\n",
    "native_country.sort_values(by = '>50K', inplace = True)\n",
    "ax = native_country.plot(kind ='bar', title = 'Proportion distribution across Native Country levels', figsize = (20,12))\n",
    "ax.set_xlabel('Native country')\n",
    "ax.set_ylabel('Proportion of population')\n",
    "\n",
    "print()"
   ]
  },
  {
   "cell_type": "code",
   "execution_count": null,
   "metadata": {},
   "outputs": [],
   "source": [
    "printmd('## Hours per week')\n",
    "\n",
    "hours_per_week = round(pd.crosstab(adult['hours-per-week'], adult.income).div(pd.crosstab(adult['hours-per-week'], adult.income).apply(sum,1),0),2)\n",
    "# hours_per_week.sort_values(by = '>50K', inplace = True)\n",
    "ax = hours_per_week.plot(kind ='bar', title = 'Proportion distribution across Hours per week', figsize = (20,12))\n",
    "ax.set_xlabel('Hours per week')\n",
    "ax.set_ylabel('Proportion of population')\n",
    "\n",
    "print()"
   ]
  },
  {
   "cell_type": "code",
   "execution_count": null,
   "metadata": {
    "scrolled": false
   },
   "outputs": [],
   "source": [
    "printmd('## Hours worked across working classes')\n",
    "\n",
    "for i in adult.workclass.unique():\n",
    "    df = adult[adult.workclass == i]\n",
    "\n",
    "    hours_per_week = round(pd.crosstab(df['hours-per-week'], df.income).div(pd.crosstab(df['hours-per-week'], df.income).apply(sum,1),0),2)\n",
    "    # hours_per_week.sort_values(by = '>50K', inplace = True)\n",
    "    ax = hours_per_week.plot(kind ='bar', title = 'Proportion distribution across Hours per week for '+ i, figsize = (20,12))\n",
    "    ax.set_xlabel('Hours per week')\n",
    "    ax.set_ylabel('Proportion of population')\n",
    "\n",
    "    print()"
   ]
  },
  {
   "cell_type": "code",
   "execution_count": null,
   "metadata": {},
   "outputs": [],
   "source": [
    "# plt.rcParams['figure.figsize'] = (5, 4)\n",
    "# #plt.xlim([20,110])\n",
    "# #plt.ylim([20,110])\n",
    "            \n",
    "# pos = adult[adult.income == '>50K']\n",
    "# neg = adult[adult.income != '>50K']\n",
    "\n",
    "\n",
    "# plt.scatter(pos['educational-num'], pos['hours-per-week'], marker='o', c='b')\n",
    "# plt.scatter(neg['educational-num'], neg['hours-per-week'], marker='x', c='r')\n",
    "# plt.xlabel('Exam 1 score')\n",
    "# plt.ylabel('Exam 2 score')\n",
    "# plt.legend(['Not Admitted', 'Admitted'])\n",
    "\n",
    "# plt.show()"
   ]
  },
  {
   "cell_type": "code",
   "execution_count": null,
   "metadata": {},
   "outputs": [],
   "source": []
  },
  {
   "cell_type": "code",
   "execution_count": null,
   "metadata": {},
   "outputs": [],
   "source": []
  },
  {
   "cell_type": "code",
   "execution_count": null,
   "metadata": {},
   "outputs": [],
   "source": []
  },
  {
   "cell_type": "code",
   "execution_count": null,
   "metadata": {},
   "outputs": [],
   "source": []
  },
  {
   "cell_type": "code",
   "execution_count": null,
   "metadata": {},
   "outputs": [],
   "source": []
  },
  {
   "cell_type": "code",
   "execution_count": null,
   "metadata": {},
   "outputs": [],
   "source": []
  },
  {
   "cell_type": "markdown",
   "metadata": {},
   "source": [
    "# 2. Data Transformations"
   ]
  },
  {
   "cell_type": "markdown",
   "metadata": {},
   "source": [
    "## 2.1. Feature Selection"
   ]
  },
  {
   "cell_type": "code",
   "execution_count": null,
   "metadata": {},
   "outputs": [],
   "source": [
    "# Remove one of the education\n",
    "adult.drop(columns = ['education'], inplace = True)"
   ]
  },
  {
   "cell_type": "code",
   "execution_count": null,
   "metadata": {},
   "outputs": [],
   "source": []
  },
  {
   "cell_type": "code",
   "execution_count": null,
   "metadata": {},
   "outputs": [],
   "source": []
  },
  {
   "cell_type": "markdown",
   "metadata": {},
   "source": [
    "# 3. Classification - Model Development"
   ]
  },
  {
   "cell_type": "code",
   "execution_count": null,
   "metadata": {},
   "outputs": [],
   "source": [
    "adult_data = adult.drop(columns = ['income'])\n",
    "adult_label = adult.income\n",
    "\n",
    "\n",
    "adult_cat_1hot = pd.get_dummies(adult_data.select_dtypes('category'))\n",
    "adult_non_cat = adult_data.select_dtypes(exclude = 'category')\n",
    "\n",
    "adult_data_1hot = pd.concat([adult_non_cat, adult_cat_1hot], axis=1, join='inner')\n"
   ]
  },
  {
   "cell_type": "code",
   "execution_count": null,
   "metadata": {},
   "outputs": [],
   "source": []
  },
  {
   "cell_type": "code",
   "execution_count": null,
   "metadata": {},
   "outputs": [],
   "source": []
  },
  {
   "cell_type": "code",
   "execution_count": null,
   "metadata": {},
   "outputs": [],
   "source": [
    "# Train - Test split\n",
    "train_data, test_data, train_label, test_label = train_test_split(adult_data_1hot, adult_label, test_size  = 0.25)"
   ]
  },
  {
   "cell_type": "markdown",
   "metadata": {},
   "source": [
    "## 3.1. Decision Tree"
   ]
  },
  {
   "cell_type": "code",
   "execution_count": null,
   "metadata": {},
   "outputs": [],
   "source": [
    "# from sklearn import tree\n",
    "# from sklearn.metrics import accuracy_score\n",
    "\n",
    "\n",
    "\n",
    "clf = tree.DecisionTreeClassifier()\n",
    "clf = clf.fit(train_data, train_label)\n",
    "clf_pred = clf.predict(test_data)\n",
    "accuracy_score(test_label,clf_pred)"
   ]
  },
  {
   "cell_type": "code",
   "execution_count": null,
   "metadata": {},
   "outputs": [],
   "source": [
    "# from sklearn.tree import export_graphviz\n",
    "# from IPython.display import SVG\n",
    "# from graphviz import Source\n",
    "\n",
    "\n",
    "\n",
    "# graph = Source( tree.export_graphviz(clf, out_file=None, feature_names=train_data.columns))\n",
    "\n",
    "# # Display Tree\n",
    "# SVG(graph.pipe(format='svg'))\n",
    "\n",
    "# # Save Tree as PNG\n",
    "# png_bytes = graph.pipe(format='png')\n",
    "# with open('dtree_pipe.png','wb') as f:\n",
    "#     f.write(png_bytes)\n",
    "\n"
   ]
  },
  {
   "cell_type": "markdown",
   "metadata": {},
   "source": [
    "## 3.2. Artificial Neural Network"
   ]
  },
  {
   "cell_type": "code",
   "execution_count": null,
   "metadata": {},
   "outputs": [],
   "source": [
    "from sklearn.neural_network import MLPClassifier\n",
    "ann = MLPClassifier(activation = 'tanh', solver='adam', alpha=1e-5,hidden_layer_sizes=(10, 2), random_state=1, warm_start=True)\n",
    "ann.fit(train_data, train_label)                         \n",
    "ann_pred = ann.predict(test_data)\n",
    "accuracy_score(test_label,ann_pred)\n",
    "\n",
    "# Solver ‘adam’ works pretty well on relatively large datasets (with thousands of training samples or more) in terms of both training time and validation score."
   ]
  },
  {
   "cell_type": "code",
   "execution_count": null,
   "metadata": {},
   "outputs": [],
   "source": [
    "from sklearn.neural_network import MLPClassifier\n",
    "ann = MLPClassifier(activation = 'relu', solver='adam', alpha=1e-5,hidden_layer_sizes=(5, 2), random_state=1, warm_start = True)\n",
    "ann.fit(train_data, train_label)                         \n",
    "ann_pred = ann.predict(test_data)\n",
    "accuracy_score(test_label,ann_pred)"
   ]
  },
  {
   "cell_type": "code",
   "execution_count": null,
   "metadata": {},
   "outputs": [],
   "source": [
    "from sklearn.neural_network import MLPClassifier\n",
    "ann = MLPClassifier(activation = 'logistic', solver='adam', alpha=1e-5,hidden_layer_sizes=(5, 2), random_state=1, warm_start = True)\n",
    "ann.fit(train_data, train_label)                         \n",
    "ann_pred = ann.predict(test_data)\n",
    "accuracy_score(test_label,ann_pred)"
   ]
  },
  {
   "cell_type": "code",
   "execution_count": null,
   "metadata": {},
   "outputs": [],
   "source": [
    "from sklearn.neural_network import MLPClassifier\n",
    "ann = MLPClassifier(activation = 'identity', solver='adam', alpha=1e-5,hidden_layer_sizes=(5, 2), random_state=1, warm_start = True)\n",
    "ann.fit(train_data, train_label)                         \n",
    "ann_pred = ann.predict(test_data)\n",
    "accuracy_score(test_label,ann_pred)"
   ]
  },
  {
   "cell_type": "code",
   "execution_count": null,
   "metadata": {
    "scrolled": true
   },
   "outputs": [],
   "source": [
    "# Since MLP is sensitive to feature scaling \n",
    "from sklearn.preprocessing import StandardScaler  \n",
    "scaler = StandardScaler()  \n",
    "\n",
    "# Fitting only on training data\n",
    "scaler.fit(train_data)  \n",
    "train_data = scaler.transform(train_data)  \n",
    "\n",
    "# Applying same transformation to test data\n",
    "test_data = scaler.transform(test_data) \n",
    "\n",
    "ann = MLPClassifier(activation = 'relu', solver='adam', alpha=1e-5,hidden_layer_sizes=(5, 2), random_state=1, warm_start = True)\n",
    "ann.fit(train_data, train_label)                         \n",
    "ann_pred = ann.predict(test_data)\n",
    "accuracy_score(test_label,ann_pred)"
   ]
  },
  {
   "cell_type": "markdown",
   "metadata": {},
   "source": [
    "## 3.3. Support Vector Machine"
   ]
  },
  {
   "cell_type": "code",
   "execution_count": null,
   "metadata": {},
   "outputs": [],
   "source": [
    "#from sklearn import svm\n",
    "\n",
    "svm_clf = svm.SVC()\n",
    "svm_clf.fit(train_data, train_label)\n",
    "svm_pred = svm_clf.predict(test_data)\n",
    "accuracy_score(test_label, svm_pred)"
   ]
  },
  {
   "cell_type": "code",
   "execution_count": null,
   "metadata": {},
   "outputs": [],
   "source": [
    "svm_clf = svm.SVC()\n",
    "svm_clf.fit(train_data, train_label)\n",
    "svm_pred = svm_clf.predict(test_data)\n",
    "accuracy_score(test_label, svm_pred)"
   ]
  },
  {
   "cell_type": "markdown",
   "metadata": {},
   "source": [
    "## 3.4. Ensemble Models\n",
    "\n",
    "### 3.4.1. Random Forest"
   ]
  },
  {
   "cell_type": "code",
   "execution_count": null,
   "metadata": {},
   "outputs": [],
   "source": [
    "from sklearn.ensemble import RandomForestClassifier\n",
    "\n",
    "r_forest = RandomForestClassifier(n_estimators=10)\n",
    "r_forest.fit(train_data, train_label)\n",
    "r_forest_pred = r_forest.predict(test_data)\n",
    "accuracy_score(test_label, r_forest_pred)\n"
   ]
  },
  {
   "cell_type": "markdown",
   "metadata": {},
   "source": [
    "### 3.4.2. Adaboost"
   ]
  },
  {
   "cell_type": "code",
   "execution_count": null,
   "metadata": {},
   "outputs": [],
   "source": [
    "from sklearn.ensemble import AdaBoostClassifier\n",
    "from sklearn.model_selection import cross_val_score\n",
    "\n",
    "ada = AdaBoostClassifier(n_estimators=100)                     \n",
    "ada.fit(train_data, train_label)\n",
    "ada_pred = ada.predict(test_data)\n",
    "accuracy_score(test_label, ada_pred)"
   ]
  },
  {
   "cell_type": "markdown",
   "metadata": {},
   "source": [
    "## 3.5. Logistic Regression"
   ]
  },
  {
   "cell_type": "code",
   "execution_count": null,
   "metadata": {},
   "outputs": [],
   "source": [
    "#from sklearn.linear_model import LogisticRegression\n",
    "\n",
    "log_reg = LogisticRegression()\n",
    "log_reg.fit(train_data, train_label)\n",
    "log_reg_pred = log_reg.predict(test_data)\n",
    "accuracy_score(test_label, log_reg_pred)"
   ]
  },
  {
   "cell_type": "markdown",
   "metadata": {},
   "source": [
    "## 3.6. k Nearest Neighbours"
   ]
  },
  {
   "cell_type": "code",
   "execution_count": null,
   "metadata": {},
   "outputs": [],
   "source": [
    "from sklearn.neighbors import KNeighborsClassifier\n",
    "for i in range(1,50,2):\n",
    "    knn = KNeighborsClassifier(n_neighbors=i)\n",
    "    knn.fit(train_data, train_label) \n",
    "    knn_pred = knn.predict(test_data)\n",
    "    print((i,accuracy_score(test_label, knn_pred)))"
   ]
  },
  {
   "cell_type": "code",
   "execution_count": null,
   "metadata": {},
   "outputs": [],
   "source": []
  },
  {
   "cell_type": "code",
   "execution_count": null,
   "metadata": {},
   "outputs": [],
   "source": []
  },
  {
   "cell_type": "markdown",
   "metadata": {},
   "source": [
    "# 4. Model Evaluation"
   ]
  },
  {
   "cell_type": "code",
   "execution_count": null,
   "metadata": {},
   "outputs": [],
   "source": []
  }
 ],
 "metadata": {
  "kernelspec": {
   "display_name": "Python 3",
   "language": "python",
   "name": "python3"
  },
  "language_info": {
   "codemirror_mode": {
    "name": "ipython",
    "version": 3
   },
   "file_extension": ".py",
   "mimetype": "text/x-python",
   "name": "python",
   "nbconvert_exporter": "python",
   "pygments_lexer": "ipython3",
   "version": "3.6.4"
  }
 },
 "nbformat": 4,
 "nbformat_minor": 2
}
